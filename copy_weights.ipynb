{
 "cells": [
  {
   "cell_type": "markdown",
   "metadata": {},
   "source": [
    "# Copy weights form TF Hub\n",
    "This code is based on https://colab.research.google.com/github/tensorflow/hub/blob/master/examples/colab/biggan_generation_with_tf_hub.ipynb"
   ]
  },
  {
   "cell_type": "code",
   "execution_count": null,
   "metadata": {
    "colab": {},
    "colab_type": "code",
    "id": "OJCIhQPClKJ1"
   },
   "outputs": [],
   "source": [
    "# module_path = 'https://tfhub.dev/deepmind/biggan-128/2'  # 128x128 BigGAN\n",
    "module_path = 'https://tfhub.dev/deepmind/biggan-256/2'  # 256x256 BigGAN\n",
    "# module_path = 'https://tfhub.dev/deepmind/biggan-512/2'  # 512x512 BigGAN"
   ]
  },
  {
   "cell_type": "code",
   "execution_count": null,
   "metadata": {
    "colab": {},
    "colab_type": "code",
    "id": "lOZnst2jeWDL"
   },
   "outputs": [],
   "source": [
    "import io\n",
    "import IPython.display\n",
    "import numpy as np\n",
    "import PIL.Image\n",
    "from scipy.stats import truncnorm\n",
    "import tensorflow as tf\n",
    "import tensorflow_hub as hub"
   ]
  },
  {
   "cell_type": "markdown",
   "metadata": {
    "colab_type": "text",
    "id": "stWb21nlcyCm"
   },
   "source": [
    "## Load a BigGAN generator module from TF Hub"
   ]
  },
  {
   "cell_type": "code",
   "execution_count": null,
   "metadata": {
    "colab": {
     "base_uri": "https://localhost:8080/",
     "height": 170
    },
    "colab_type": "code",
    "id": "tVgwgJiCH3PV",
    "outputId": "be471fd5-52c2-4c6b-9239-e73052d6932b"
   },
   "outputs": [],
   "source": [
    "tf.reset_default_graph()\n",
    "print('Loading BigGAN module from:', module_path)\n",
    "module = hub.Module(module_path)\n",
    "inputs = {k: tf.placeholder(v.dtype, v.get_shape().as_list(), k)\n",
    "          for k, v in module.get_input_info_dict().items()}\n",
    "output = module(inputs)\n",
    "\n",
    "print()\n",
    "print ('Inputs:\\n', '\\n'.join('  {}: {}'.format(*kv) for kv in inputs.items()))\n",
    "print()\n",
    "print('Output:', output)"
   ]
  },
  {
   "cell_type": "markdown",
   "metadata": {
    "colab_type": "text",
    "id": "ry62-8SWfuds"
   },
   "source": [
    "## Define some functions for sampling and displaying BigGAN images"
   ]
  },
  {
   "cell_type": "code",
   "execution_count": null,
   "metadata": {
    "colab": {},
    "colab_type": "code",
    "id": "46M8prJPDEsV"
   },
   "outputs": [],
   "source": [
    "input_z = inputs['z']\n",
    "input_y = inputs['y']\n",
    "input_trunc = inputs['truncation']\n",
    "\n",
    "dim_z = input_z.shape.as_list()[1]\n",
    "vocab_size = input_y.shape.as_list()[1]\n",
    "\n",
    "def truncated_z_sample(batch_size, truncation=1., seed=None):\n",
    "    state = None if seed is None else np.random.RandomState(seed)\n",
    "    values = truncnorm.rvs(-2, 2, size=(batch_size, dim_z), random_state=state)\n",
    "    return truncation * values\n",
    "\n",
    "def one_hot(index, vocab_size=vocab_size):\n",
    "    index = np.asarray(index)\n",
    "    if len(index.shape) == 0:\n",
    "        index = np.asarray([index])\n",
    "    assert len(index.shape) == 1\n",
    "    num = index.shape[0]\n",
    "    output = np.zeros((num, vocab_size), dtype=np.float32)\n",
    "    output[np.arange(num), index] = 1\n",
    "    return output\n",
    "\n",
    "def one_hot_if_needed(label, vocab_size=vocab_size):\n",
    "    label = np.asarray(label)\n",
    "    if len(label.shape) <= 1:\n",
    "        label = one_hot(label, vocab_size)\n",
    "    assert len(label.shape) == 2\n",
    "    return label"
   ]
  },
  {
   "cell_type": "markdown",
   "metadata": {
    "colab_type": "text",
    "id": "uCeCg3Sdf8Nv"
   },
   "source": [
    "## Create a TensorFlow session and initialize variables"
   ]
  },
  {
   "cell_type": "code",
   "execution_count": null,
   "metadata": {
    "colab": {},
    "colab_type": "code",
    "id": "rYJor5bOaVn1"
   },
   "outputs": [],
   "source": [
    "initializer = tf.global_variables_initializer()\n",
    "sess = tf.Session()\n",
    "sess.run(initializer)"
   ]
  },
  {
   "cell_type": "markdown",
   "metadata": {},
   "source": [
    "## Copy weight from tfhub"
   ]
  },
  {
   "cell_type": "code",
   "execution_count": null,
   "metadata": {
    "colab": {},
    "colab_type": "code",
    "id": "5bXNMgoapOvE"
   },
   "outputs": [],
   "source": [
    "variables = module.variable_map"
   ]
  },
  {
   "cell_type": "code",
   "execution_count": null,
   "metadata": {
    "colab": {},
    "colab_type": "code",
    "id": "hO5OvSciXOrQ"
   },
   "outputs": [],
   "source": [
    "keys = variables.keys()\n",
    "values = [variables[k] for k in keys]"
   ]
  },
  {
   "cell_type": "code",
   "execution_count": null,
   "metadata": {
    "colab": {},
    "colab_type": "code",
    "id": "PKjwaOgKqvYE"
   },
   "outputs": [],
   "source": [
    "label = np.asarray([0])\n",
    "label = one_hot_if_needed(label, vocab_size)\n",
    "\n",
    "noise = truncated_z_sample(1, 1, 0)\n",
    "noise = np.asarray(noise)\n",
    "feed_dict = {input_z: noise, input_y: label, input_trunc: 1}\n",
    "weights = sess.run(values, feed_dict=feed_dict)"
   ]
  },
  {
   "cell_type": "code",
   "execution_count": null,
   "metadata": {
    "colab": {},
    "colab_type": "code",
    "id": "YEmSAKSEZEDm"
   },
   "outputs": [],
   "source": [
    "import pickle\n",
    "weights_dict = {k:w for k, w in zip(keys, weights)}\n",
    "with open(\"BIGGAN_weights.pkl\", \"wb\") as f:\n",
    "    pickle.dump(weights_dict, f)"
   ]
  }
 ],
 "metadata": {
  "accelerator": "GPU",
  "colab": {
   "collapsed_sections": [
    "pLOYL1PJAAtK",
    "JJrTM6hAi0CJ"
   ],
   "name": "BigGAN TF Hub Demo",
   "provenance": [],
   "toc_visible": true,
   "version": "0.3.2"
  },
  "kernelspec": {
   "display_name": "Python 3",
   "language": "python",
   "name": "python3"
  },
  "language_info": {
   "codemirror_mode": {
    "name": "ipython",
    "version": 3
   },
   "file_extension": ".py",
   "mimetype": "text/x-python",
   "name": "python",
   "nbconvert_exporter": "python",
   "pygments_lexer": "ipython3",
   "version": "3.6.3"
  }
 },
 "nbformat": 4,
 "nbformat_minor": 2
}
